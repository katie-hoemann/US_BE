{
 "cells": [
  {
   "cell_type": "code",
   "execution_count": 1,
   "id": "2973ed7a",
   "metadata": {},
   "outputs": [
    {
     "name": "stderr",
     "output_type": "stream",
     "text": [
      "C:\\Users\\Katie\\anaconda3\\lib\\site-packages\\scipy\\__init__.py:155: UserWarning: A NumPy version >=1.18.5 and <1.25.0 is required for this version of SciPy (detected version 1.26.4\n",
      "  warnings.warn(f\"A NumPy version >={np_minversion} and <{np_maxversion}\"\n"
     ]
    }
   ],
   "source": [
    "# import modules\n",
    "import stanza\n",
    "import pandas as pd\n",
    "import numpy as np\n",
    "import string\n",
    "from sklearn.feature_extraction.text import CountVectorizer\n",
    "from sklearn.decomposition import LatentDirichletAllocation"
   ]
  },
  {
   "cell_type": "code",
   "execution_count": 13,
   "id": "29299271",
   "metadata": {},
   "outputs": [],
   "source": [
    "# import data\n",
    "data = pd.read_csv('ERC Dutch_split by sentence_400 files_corrected_3 Mar 24_DN_318056 320029 removed.csv')"
   ]
  },
  {
   "cell_type": "code",
   "execution_count": 3,
   "id": "52116dcf",
   "metadata": {},
   "outputs": [
    {
     "name": "stderr",
     "output_type": "stream",
     "text": [
      "2024-05-29 10:41:44 INFO: Loading these models for language: nl (Dutch):\n",
      "=======================\n",
      "| Processor | Package |\n",
      "-----------------------\n",
      "| tokenize  | alpino  |\n",
      "| pos       | alpino  |\n",
      "| lemma     | alpino  |\n",
      "| depparse  | alpino  |\n",
      "| ner       | conll02 |\n",
      "=======================\n",
      "\n",
      "2024-05-29 10:41:44 INFO: Using device: cpu\n",
      "2024-05-29 10:41:44 INFO: Loading: tokenize\n",
      "2024-05-29 10:41:44 INFO: Loading: pos\n",
      "2024-05-29 10:41:45 INFO: Loading: lemma\n",
      "2024-05-29 10:41:45 INFO: Loading: depparse\n",
      "2024-05-29 10:41:45 INFO: Loading: ner\n",
      "2024-05-29 10:41:47 INFO: Done loading processors!\n"
     ]
    }
   ],
   "source": [
    "# define algorithms and functions\n",
    "nlp = stanza.Pipeline('nl', download_method=None)\n",
    "\n",
    "def lemmatize_text(text):\n",
    "    text = text.translate(str.maketrans('', '', string.punctuation))\n",
    "    doc = nlp(text)\n",
    "    lemmas = [word.lemma for sentence in doc.sentences for word in sentence.words]\n",
    "    return lemmas\n",
    "\n",
    "def clean_lemmas(text):\n",
    "    cleaned = ' '.join(str(lemma) for lemma in text)\n",
    "    return cleaned\n",
    "\n",
    "def get_length(text):\n",
    "    length = len(text.split())\n",
    "    return length"
   ]
  },
  {
   "cell_type": "code",
   "execution_count": 14,
   "id": "556e1d9b",
   "metadata": {},
   "outputs": [],
   "source": [
    "# lemmatize text\n",
    "data['list'] = data.apply(lambda row: lemmatize_text(row['Text']), axis=1)"
   ]
  },
  {
   "cell_type": "code",
   "execution_count": 15,
   "id": "4470ae1e",
   "metadata": {},
   "outputs": [],
   "source": [
    "# transform list of lemmas into string\n",
    "data['lemmas'] = data.apply(lambda row: clean_lemmas(row['list']), axis=1)\n",
    "data = data.drop(columns=['list'])"
   ]
  },
  {
   "cell_type": "code",
   "execution_count": 16,
   "id": "940fe0b9",
   "metadata": {},
   "outputs": [],
   "source": [
    "# get number of words in each text\n",
    "data['length'] = data.apply(lambda row: get_length(row['lemmas']), axis=1)"
   ]
  },
  {
   "cell_type": "code",
   "execution_count": 17,
   "id": "caa9d569",
   "metadata": {},
   "outputs": [],
   "source": [
    "# export the updated data set\n",
    "data.to_csv('Dutch data_lemmatized_DN.csv')"
   ]
  }
 ],
 "metadata": {
  "celltoolbar": "Raw Cell Format",
  "kernelspec": {
   "display_name": "Python 3 (ipykernel)",
   "language": "python",
   "name": "python3"
  },
  "language_info": {
   "codemirror_mode": {
    "name": "ipython",
    "version": 3
   },
   "file_extension": ".py",
   "mimetype": "text/x-python",
   "name": "python",
   "nbconvert_exporter": "python",
   "pygments_lexer": "ipython3",
   "version": "3.12.4"
  }
 },
 "nbformat": 4,
 "nbformat_minor": 5
}
